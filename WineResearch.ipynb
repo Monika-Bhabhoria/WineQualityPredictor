{
 "cells": [
  {
   "cell_type": "markdown",
   "metadata": {
    "id": "-LLHGbigkBJd"
   },
   "source": [
    "### `Task` How dimensionality reduction using Principal Component Analysis (PCA) on the Wine Quality dataset contributes to improving the classification accuracy and efficiency of wine type.\n",
    "\n",
    "Note : Use KNN for Classification.\n",
    "\n",
    "Data Link :  [Wine Data](https://docs.google.com/spreadsheets/d/e/2PACX-1vQDVwxneOKOaJL13QMhkAhYrgWlH1tICY7RacUnj_lL8m9uUWaaUf3p7bScNyh_D2Rvt7nc1q11adSy/pub?gid=647503637&single=true&output=csv)"
   ]
  },
  {
   "cell_type": "code",
   "execution_count": 1,
   "metadata": {
    "colab": {
     "base_uri": "https://localhost:8080/",
     "height": 98
    },
    "id": "HgJ-b41rjVas",
    "outputId": "07a0b14d-e3b9-4bd2-cfb1-61dd55741a32"
   },
   "outputs": [
    {
     "data": {
      "text/html": [
       "<div>\n",
       "<style scoped>\n",
       "    .dataframe tbody tr th:only-of-type {\n",
       "        vertical-align: middle;\n",
       "    }\n",
       "\n",
       "    .dataframe tbody tr th {\n",
       "        vertical-align: top;\n",
       "    }\n",
       "\n",
       "    .dataframe thead th {\n",
       "        text-align: right;\n",
       "    }\n",
       "</style>\n",
       "<table border=\"1\" class=\"dataframe\">\n",
       "  <thead>\n",
       "    <tr style=\"text-align: right;\">\n",
       "      <th></th>\n",
       "      <th>type</th>\n",
       "      <th>fixed acidity</th>\n",
       "      <th>volatile acidity</th>\n",
       "      <th>citric acid</th>\n",
       "      <th>residual sugar</th>\n",
       "      <th>chlorides</th>\n",
       "      <th>free sulfur dioxide</th>\n",
       "      <th>total sulfur dioxide</th>\n",
       "      <th>density</th>\n",
       "      <th>pH</th>\n",
       "      <th>sulphates</th>\n",
       "      <th>alcohol</th>\n",
       "      <th>quality</th>\n",
       "    </tr>\n",
       "  </thead>\n",
       "  <tbody>\n",
       "    <tr>\n",
       "      <th>0</th>\n",
       "      <td>white</td>\n",
       "      <td>7.0</td>\n",
       "      <td>0.27</td>\n",
       "      <td>0.36</td>\n",
       "      <td>20.7</td>\n",
       "      <td>0.045</td>\n",
       "      <td>45.0</td>\n",
       "      <td>170.0</td>\n",
       "      <td>1.001</td>\n",
       "      <td>3.0</td>\n",
       "      <td>0.45</td>\n",
       "      <td>8.8</td>\n",
       "      <td>6</td>\n",
       "    </tr>\n",
       "  </tbody>\n",
       "</table>\n",
       "</div>"
      ],
      "text/plain": [
       "    type  fixed acidity  volatile acidity  citric acid  residual sugar  \\\n",
       "0  white            7.0              0.27         0.36            20.7   \n",
       "\n",
       "   chlorides  free sulfur dioxide  total sulfur dioxide  density   pH  \\\n",
       "0      0.045                 45.0                 170.0    1.001  3.0   \n",
       "\n",
       "   sulphates  alcohol  quality  \n",
       "0       0.45      8.8        6  "
      ]
     },
     "execution_count": 1,
     "metadata": {},
     "output_type": "execute_result"
    }
   ],
   "source": [
    "# Data Loading\n",
    "import pandas as pd\n",
    "wine_data_path = \"https://docs.google.com/spreadsheets/d/e/2PACX-1vQDVwxneOKOaJL13QMhkAhYrgWlH1tICY7RacUnj_lL8m9uUWaaUf3p7bScNyh_D2Rvt7nc1q11adSy/pub?gid=647503637&single=true&output=csv\"\n",
    "wine = pd.read_csv(wine_data_path)\n",
    "wine.head(1)"
   ]
  },
  {
   "cell_type": "markdown",
   "metadata": {
    "id": "i-cx9Mn8lEEc"
   },
   "source": [
    "#### `Solution`"
   ]
  },
  {
   "cell_type": "code",
   "execution_count": 2,
   "metadata": {
    "colab": {
     "base_uri": "https://localhost:8080/"
    },
    "id": "B5_oivVRlF-k",
    "outputId": "c88a1629-a0de-4dd0-a53a-5faa65d79f8c"
   },
   "outputs": [
    {
     "name": "stdout",
     "output_type": "stream",
     "text": [
      "<class 'pandas.core.frame.DataFrame'>\n",
      "RangeIndex: 6497 entries, 0 to 6496\n",
      "Data columns (total 13 columns):\n",
      " #   Column                Non-Null Count  Dtype  \n",
      "---  ------                --------------  -----  \n",
      " 0   type                  6497 non-null   object \n",
      " 1   fixed acidity         6487 non-null   float64\n",
      " 2   volatile acidity      6489 non-null   float64\n",
      " 3   citric acid           6494 non-null   float64\n",
      " 4   residual sugar        6495 non-null   float64\n",
      " 5   chlorides             6495 non-null   float64\n",
      " 6   free sulfur dioxide   6497 non-null   float64\n",
      " 7   total sulfur dioxide  6497 non-null   float64\n",
      " 8   density               6497 non-null   float64\n",
      " 9   pH                    6488 non-null   float64\n",
      " 10  sulphates             6493 non-null   float64\n",
      " 11  alcohol               6497 non-null   float64\n",
      " 12  quality               6497 non-null   int64  \n",
      "dtypes: float64(11), int64(1), object(1)\n",
      "memory usage: 660.0+ KB\n"
     ]
    }
   ],
   "source": [
    "wine.info()"
   ]
  },
  {
   "cell_type": "code",
   "execution_count": 3,
   "metadata": {
    "colab": {
     "base_uri": "https://localhost:8080/",
     "height": 491
    },
    "id": "aBRciZc-lHwf",
    "outputId": "8a3289af-665d-42d3-a5fb-852e4a8cfd38"
   },
   "outputs": [
    {
     "data": {
      "text/plain": [
       "type                     0\n",
       "fixed acidity           10\n",
       "volatile acidity         8\n",
       "citric acid              3\n",
       "residual sugar           2\n",
       "chlorides                2\n",
       "free sulfur dioxide      0\n",
       "total sulfur dioxide     0\n",
       "density                  0\n",
       "pH                       9\n",
       "sulphates                4\n",
       "alcohol                  0\n",
       "quality                  0\n",
       "dtype: int64"
      ]
     },
     "execution_count": 3,
     "metadata": {},
     "output_type": "execute_result"
    }
   ],
   "source": [
    "# Checking for Nan Values\n",
    "wine.isna().sum()"
   ]
  },
  {
   "cell_type": "code",
   "execution_count": 4,
   "metadata": {
    "colab": {
     "base_uri": "https://localhost:8080/"
    },
    "id": "h1vhtigAlr5i",
    "outputId": "f974181c-9fc1-41ea-cfa3-1d44f237269a"
   },
   "outputs": [
    {
     "data": {
      "text/plain": [
       "np.int64(1168)"
      ]
     },
     "execution_count": 4,
     "metadata": {},
     "output_type": "execute_result"
    }
   ],
   "source": [
    "# Checking for duplicated data\n",
    "wine.duplicated().sum()"
   ]
  },
  {
   "cell_type": "code",
   "execution_count": 5,
   "metadata": {
    "colab": {
     "base_uri": "https://localhost:8080/"
    },
    "id": "3RU8MpHxlxWi",
    "outputId": "40af65d6-007d-42a6-ec7b-4b8c41ca68d2"
   },
   "outputs": [
    {
     "name": "stdout",
     "output_type": "stream",
     "text": [
      "Wine Data Shape : (6497, 13)\n",
      "Wine Data Shape (After Dropping-) : (5295, 13)\n"
     ]
    }
   ],
   "source": [
    "# We need to remove duplicated rows and missing value rows\n",
    "import pandas as pd\n",
    "\n",
    "# Load the Wine Quality dataset\n",
    "wine_data = pd.read_csv(wine_data_path)\n",
    "print(\"Wine Data Shape :\", wine_data.shape)\n",
    "# Drop rows with missing values\n",
    "wine_data = wine_data.dropna()\n",
    "\n",
    "# Dropping Duplicates rows\n",
    "wine_data.drop_duplicates(inplace=True)\n",
    "print(\"Wine Data Shape (After Dropping-) :\", wine_data.shape)\n",
    "\n",
    "\n"
   ]
  },
  {
   "cell_type": "code",
   "execution_count": 6,
   "metadata": {
    "colab": {
     "base_uri": "https://localhost:8080/"
    },
    "id": "YKBNLNw3l8xW",
    "outputId": "cc12ebe7-9d2f-4b8b-e990-e9dc7db9e363"
   },
   "outputs": [
    {
     "name": "stdout",
     "output_type": "stream",
     "text": [
      "KNN having features - 12\n",
      "Classification Accuracy without PCA: 99.34%\n"
     ]
    }
   ],
   "source": [
    "from sklearn.model_selection import train_test_split\n",
    "from sklearn.preprocessing import StandardScaler\n",
    "from sklearn.decomposition import PCA\n",
    "from sklearn.neighbors import KNeighborsClassifier\n",
    "from sklearn.metrics import accuracy_score\n",
    "\n",
    "\n",
    "# Separate features (physicochemical properties) and target variable (type)\n",
    "X = wine_data.drop('type', axis=1)\n",
    "y = wine_data['type']\n",
    "\n",
    "# Split the dataset into training and testing sets\n",
    "X_train, X_test, y_train, y_test = train_test_split(X, y, test_size=0.2, random_state=42)\n",
    "\n",
    "# Standardize the features\n",
    "scaler = StandardScaler()\n",
    "X_train_scaled = scaler.fit_transform(X_train)\n",
    "X_test_scaled = scaler.transform(X_test)\n",
    "\n",
    "# Train a K-Nearest Neighbors (KNN) classifier without PCA\n",
    "knn_no_pca = KNeighborsClassifier(n_neighbors=5)\n",
    "knn_no_pca.fit(X_train_scaled, y_train)\n",
    "\n",
    "# Predict the wine type on the testing set without PCA\n",
    "y_pred_no_pca = knn_no_pca.predict(X_test_scaled)\n",
    "\n",
    "# Evaluate the classification accuracy without PCA\n",
    "accuracy_no_pca = accuracy_score(y_test, y_pred_no_pca)\n",
    "print(\"KNN having features -\", X_train_scaled.shape[1])\n",
    "print(\"Classification Accuracy without PCA: {:.2f}%\".format(accuracy_no_pca * 100))\n"
   ]
  },
  {
   "cell_type": "code",
   "execution_count": 7,
   "metadata": {
    "colab": {
     "base_uri": "https://localhost:8080/"
    },
    "id": "N0nUe2I-m71l",
    "outputId": "9ce76297-a1c9-4bf1-a38c-b3faf45094d4"
   },
   "outputs": [
    {
     "name": "stdout",
     "output_type": "stream",
     "text": [
      "KNN having features - 5\n",
      "Classification Accuracy with PCA: 98.87%\n"
     ]
    }
   ],
   "source": [
    "# Apply PCA on the standardized features\n",
    "pca = PCA(n_components=5)\n",
    "X_train_pca = pca.fit_transform(X_train_scaled)\n",
    "X_test_pca = pca.transform(X_test_scaled)\n",
    "\n",
    "# Train a K-Nearest Neighbors (KNN) classifier with PCA\n",
    "knn_with_pca = KNeighborsClassifier(n_neighbors=5)\n",
    "knn_with_pca.fit(X_train_pca, y_train)\n",
    "\n",
    "# Predict the wine type on the testing set with PCA\n",
    "y_pred_pca = knn_with_pca.predict(X_test_pca)\n",
    "\n",
    "# Evaluate the classification accuracy with PCA\n",
    "accuracy_pca = accuracy_score(y_test, y_pred_pca)\n",
    "\n",
    "print(\"KNN having features -\", X_train_pca.shape[1])\n",
    "print(\"Classification Accuracy with PCA: {:.2f}%\".format(accuracy_pca * 100))"
   ]
  },
  {
   "cell_type": "code",
   "execution_count": 8,
   "metadata": {
    "id": "v0JvcpPJm9li"
   },
   "outputs": [
    {
     "data": {
      "text/plain": [
       "array([3.04132576, 2.64834255, 1.65135526, 1.07374019, 0.84749993])"
      ]
     },
     "execution_count": 8,
     "metadata": {},
     "output_type": "execute_result"
    }
   ],
   "source": [
    "pca.explained_variance_"
   ]
  },
  {
   "cell_type": "code",
   "execution_count": 9,
   "metadata": {},
   "outputs": [
    {
     "data": {
      "text/plain": [
       "array([0.25338398, 0.22064311, 0.13758045, 0.08945723, 0.07060832])"
      ]
     },
     "execution_count": 9,
     "metadata": {},
     "output_type": "execute_result"
    }
   ],
   "source": [
    "pca.explained_variance_ratio_"
   ]
  },
  {
   "cell_type": "code",
   "execution_count": 10,
   "metadata": {},
   "outputs": [
    {
     "name": "stdout",
     "output_type": "stream",
     "text": [
      "KNN having features - 8\n",
      "Classification Accuracy with PCA: 99.34%\n"
     ]
    }
   ],
   "source": [
    "# Apply PCA on the standardized features for 90% variance\n",
    "pca = PCA(n_components=.9)\n",
    "X_train_pca = pca.fit_transform(X_train_scaled)\n",
    "X_test_pca = pca.transform(X_test_scaled)\n",
    "\n",
    "# Train a K-Nearest Neighbors (KNN) classifier with PCA\n",
    "knn_with_pca = KNeighborsClassifier(n_neighbors=5)\n",
    "knn_with_pca.fit(X_train_pca, y_train)\n",
    "\n",
    "# Predict the wine type on the testing set with PCA\n",
    "y_pred_pca = knn_with_pca.predict(X_test_pca)\n",
    "\n",
    "# Evaluate the classification accuracy with PCA\n",
    "accuracy_pca = accuracy_score(y_test, y_pred_pca)\n",
    "\n",
    "print(\"KNN having features -\", X_train_pca.shape[1])\n",
    "print(\"Classification Accuracy with PCA: {:.2f}%\".format(accuracy_pca * 100))"
   ]
  },
  {
   "cell_type": "code",
   "execution_count": 11,
   "metadata": {},
   "outputs": [
    {
     "data": {
      "text/plain": [
       "array([0.25338398, 0.22064311, 0.13758045, 0.08945723, 0.07060832,\n",
       "       0.05464252, 0.0451817 , 0.04242425])"
      ]
     },
     "execution_count": 11,
     "metadata": {},
     "output_type": "execute_result"
    }
   ],
   "source": [
    "pca.explained_variance_ratio_"
   ]
  },
  {
   "cell_type": "code",
   "execution_count": 12,
   "metadata": {},
   "outputs": [
    {
     "data": {
      "text/plain": [
       "(8, 12)"
      ]
     },
     "execution_count": 12,
     "metadata": {},
     "output_type": "execute_result"
    }
   ],
   "source": [
    "pca.components_.shape"
   ]
  },
  {
   "cell_type": "code",
   "execution_count": 13,
   "metadata": {},
   "outputs": [
    {
     "name": "stdout",
     "output_type": "stream",
     "text": [
      "KNN having features - 6\n",
      "Classification Accuracy with PCA: 98.87%\n"
     ]
    }
   ],
   "source": [
    "# Apply PCA on the standardized features for 80% variance\n",
    "pca = PCA(n_components=.8)\n",
    "X_train_pca = pca.fit_transform(X_train_scaled)\n",
    "X_test_pca = pca.transform(X_test_scaled)\n",
    "\n",
    "# Train a K-Nearest Neighbors (KNN) classifier with PCA\n",
    "knn_with_pca = KNeighborsClassifier(n_neighbors=5)\n",
    "knn_with_pca.fit(X_train_pca, y_train)\n",
    "\n",
    "# Predict the wine type on the testing set with PCA\n",
    "y_pred_pca = knn_with_pca.predict(X_test_pca)\n",
    "\n",
    "# Evaluate the classification accuracy with PCA\n",
    "accuracy_pca = accuracy_score(y_test, y_pred_pca)\n",
    "\n",
    "print(\"KNN having features -\", X_train_pca.shape[1])\n",
    "print(\"Classification Accuracy with PCA: {:.2f}%\".format(accuracy_pca * 100))"
   ]
  },
  {
   "cell_type": "code",
   "execution_count": 15,
   "metadata": {},
   "outputs": [],
   "source": [
    "import pickle \n",
    "filename='knnModel.pckl'\n",
    "saved_model = pickle.dump(knn_with_pca,open(filename, 'wb')) \n",
    "\n",
    "# Load the pickled model \n",
    "#knn_from_pickle = pickle.loads(saved_model) \n",
    "  \n",
    "# Use the loaded pickled model to make predictions \n",
    "#knn_from_pickle.predict(X_test)\n",
    "#model_path=os.path.join(\"artifacts\",\"model.pkl\")\n",
    "#model=load_object(file_path=model_path)"
   ]
  },
  {
   "cell_type": "code",
   "execution_count": null,
   "metadata": {},
   "outputs": [],
   "source": []
  }
 ],
 "metadata": {
  "colab": {
   "provenance": []
  },
  "kernelspec": {
   "display_name": "Python 3 (ipykernel)",
   "language": "python",
   "name": "python3"
  },
  "language_info": {
   "codemirror_mode": {
    "name": "ipython",
    "version": 3
   },
   "file_extension": ".py",
   "mimetype": "text/x-python",
   "name": "python",
   "nbconvert_exporter": "python",
   "pygments_lexer": "ipython3",
   "version": "3.9.6"
  }
 },
 "nbformat": 4,
 "nbformat_minor": 4
}
